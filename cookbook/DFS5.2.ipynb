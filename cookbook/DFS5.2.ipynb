{
 "cells": [
  {
   "cell_type": "markdown",
   "metadata": {},
   "source": [
    "# DFS5.2\n",
    "The time units attribute of DFS5.2 is missing.  \n",
    "This recipe shows how to concatenate multiple years."
   ]
  },
  {
   "cell_type": "code",
   "execution_count": null,
   "metadata": {},
   "outputs": [],
   "source": [
    "# Import modules\n",
    "import intake\n",
    "import xarray as xr\n",
    "\n",
    "# Import DFS5_2 entry\n",
    "cat = intake.open_catalog(\"../catalog.yaml\")\n",
    "DFS = cat.NOCS[\"DFS5.2\"]\n",
    "\n",
    "\n",
    "# Function to add time units\n",
    "def add_time_units(ds):\n",
    "    \"\"\"\n",
    "    Find out year from Identification attribute,\n",
    "    the add units to the time coordinate.\n",
    "    \"\"\"\n",
    "    filename = ds.attrs[\"Identification\"].split(\": \")[-1]\n",
    "    year = filename.split(\"_y\")[-1].replace(\".nc\", \"\")\n",
    "    ds.time.attrs[\"units\"] = f\"days since {year}\"\n",
    "    return xr.decode_cf(ds)\n",
    "\n",
    "\n",
    "# Xarray arguments\n",
    "xarray_kwargs = dict(\n",
    "    **DFS.describe()[\"args\"][\n",
    "        \"xarray_kwargs\"\n",
    "    ],  # Use the xarray arguments set in the catalog\n",
    "    preprocess=add_time_units,  # Add preprocess argument\n",
    ")\n",
    "\n",
    "# Loop over years\n",
    "years = range(1990, 2000)\n",
    "datasets = []\n",
    "print(f\"Reading {DFS.description}\", end=\": \")\n",
    "for year in years:\n",
    "    print(year, end=\", \" if year != years[-1] else \".\\n\")\n",
    "    datasets += [DFS(year=year, xarray_kwargs=xarray_kwargs).to_dask()]\n",
    "\n",
    "# Concatenate\n",
    "# See http://xarray.pydata.org/en/stable/io.html#reading-multi-file-datasets\n",
    "concat_kwargs = dict(data_vars=\"minimal\", coords=\"minimal\", compat=\"override\")\n",
    "ds = xr.concat(datasets, \"time\", **concat_kwargs)\n",
    "ds"
   ]
  }
 ],
 "metadata": {
  "kernelspec": {
   "display_name": "Python [conda env:intake]",
   "language": "python",
   "name": "conda-env-intake-py"
  },
  "language_info": {
   "codemirror_mode": {
    "name": "ipython",
    "version": 3
   },
   "file_extension": ".py",
   "mimetype": "text/x-python",
   "name": "python",
   "nbconvert_exporter": "python",
   "pygments_lexer": "ipython3",
   "version": "3.8.3"
  }
 },
 "nbformat": 4,
 "nbformat_minor": 4
}
