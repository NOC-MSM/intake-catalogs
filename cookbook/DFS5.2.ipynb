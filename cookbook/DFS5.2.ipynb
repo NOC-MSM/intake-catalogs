{
 "cells": [
  {
   "cell_type": "markdown",
   "metadata": {},
   "source": [
    "# DFS5.2\n",
    "The time units attribute of DFS5.2 is missing, and different fields have different time resolution.  \n",
    "This notebook shows how to create a single multi-year dataset with all fields."
   ]
  },
  {
   "cell_type": "code",
   "execution_count": 1,
   "metadata": {},
   "outputs": [
    {
     "name": "stdout",
     "output_type": "stream",
     "text": [
      "Reading Drakkar Forcing Set version 5.2\n",
      "\t3H: 1990, 1991, 1992, 1993, 1994, 1995, 1996, 1997, 1998, 1999.\n",
      "\tD: 1990, 1991, 1992, 1993, 1994, 1995, 1996, 1997, 1998, 1999.\n",
      "<xarray.Dataset>\n",
      "Dimensions:  (lat0: 256, lon0: 512, time3H: 29216, timeD: 3652)\n",
      "Coordinates:\n",
      "  * lon0     (lon0) float32 0.0 0.703125 1.40625 ... 358.59375 359.29688\n",
      "  * lat0     (lat0) float32 89.46282 88.76695 88.06697 ... -88.76695 -89.46282\n",
      "  * time3H   (time3H) datetime64[ns] 1990-01-01T03:00:00 ... 2000-01-01\n",
      "  * timeD    (timeD) datetime64[ns] 1990-01-01 1990-01-02 ... 1999-12-31\n",
      "Data variables:\n",
      "    q2       (time3H, lat0, lon0) float32 dask.array<chunksize=(2920, 256, 512), meta=np.ndarray>\n",
      "    t2       (time3H, lat0, lon0) float32 dask.array<chunksize=(2920, 256, 512), meta=np.ndarray>\n",
      "    u10      (time3H, lat0, lon0) float32 dask.array<chunksize=(2920, 256, 512), meta=np.ndarray>\n",
      "    v10      (time3H, lat0, lon0) float32 dask.array<chunksize=(2920, 256, 512), meta=np.ndarray>\n",
      "    precip   (timeD, lat0, lon0) float32 dask.array<chunksize=(365, 256, 512), meta=np.ndarray>\n",
      "    radlw    (timeD, lat0, lon0) float32 dask.array<chunksize=(365, 256, 512), meta=np.ndarray>\n",
      "    radsw    (timeD, lat0, lon0) float32 dask.array<chunksize=(365, 256, 512), meta=np.ndarray>\n",
      "    snow     (timeD, lat0, lon0) float32 dask.array<chunksize=(365, 256, 512), meta=np.ndarray>\n"
     ]
    }
   ],
   "source": [
    "# Import modules\n",
    "import intake\n",
    "import xarray as xr\n",
    "import pandas as pd\n",
    "\n",
    "# Import DFS5_2 entry\n",
    "cat = intake.open_catalog(\"../catalog.yaml\")\n",
    "DFS = cat.NOCS[\"DFS5.2\"]\n",
    "\n",
    "\n",
    "# Function to add time units\n",
    "def add_time_units(ds):\n",
    "    \"\"\"\n",
    "    Find out year from Identification attribute,\n",
    "    the add units to the time coordinate.\n",
    "    \"\"\"\n",
    "    filename = ds.attrs[\"Identification\"].split(\": \")[-1]\n",
    "    year = filename.split(\"_y\")[-1].replace(\".nc\", \"\")\n",
    "    ds.time.attrs[\"units\"] = f\"days since {year}\"\n",
    "\n",
    "    # Decode time and infer frequency\n",
    "    ds = xr.decode_cf(ds)\n",
    "    freq = pd.infer_freq(ds[\"time\"].values)\n",
    "\n",
    "    # Rename time dimension\n",
    "    ds = ds.rename(time=f\"time{freq}\")\n",
    "\n",
    "    return ds\n",
    "\n",
    "\n",
    "# xarray arguments\n",
    "xarray_kwargs = dict(\n",
    "    **DFS.describe()[\"args\"][\n",
    "        \"xarray_kwargs\"\n",
    "    ],  # Use the xarray arguments set in the catalog\n",
    "    preprocess=add_time_units,  # Add preprocess argument\n",
    ")\n",
    "\n",
    "# Settings\n",
    "time_freqs = [\"3H\", \"D\"]\n",
    "years = range(1990, 2000)\n",
    "concat_kwargs = dict(data_vars=\"minimal\", coords=\"minimal\", compat=\"override\")\n",
    "\n",
    "# Create one dataset\n",
    "ds2merge = []\n",
    "print(f\"Reading {DFS.description}\")\n",
    "# Loop over time frequencies\n",
    "for freq in time_freqs:\n",
    "    ds2concat = []\n",
    "    print(f\"\\t{freq}\", end=\": \")\n",
    "    # Loop over years\n",
    "    for year in years:\n",
    "        print(year, end=f\", \" if year != years[-1] else \".\\n\")\n",
    "        ds2concat += [\n",
    "            DFS(\n",
    "                year=year, time_freq=freq, xarray_kwargs=xarray_kwargs\n",
    "            ).to_dask()\n",
    "        ]\n",
    "    ds2merge += [xr.concat(ds2concat, f\"time{freq}\", **concat_kwargs)]\n",
    "ds = xr.merge(ds2merge)\n",
    "print(ds)"
   ]
  }
 ],
 "metadata": {
  "kernelspec": {
   "display_name": "Python [conda env:intake]",
   "language": "python",
   "name": "conda-env-intake-py"
  },
  "language_info": {
   "codemirror_mode": {
    "name": "ipython",
    "version": 3
   },
   "file_extension": ".py",
   "mimetype": "text/x-python",
   "name": "python",
   "nbconvert_exporter": "python",
   "pygments_lexer": "ipython3",
   "version": "3.8.3"
  }
 },
 "nbformat": 4,
 "nbformat_minor": 4
}
